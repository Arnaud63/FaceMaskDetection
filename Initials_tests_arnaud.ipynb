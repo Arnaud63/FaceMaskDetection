{
 "cells": [
  {
   "cell_type": "code",
   "execution_count": 1,
   "id": "df91b7ef",
   "metadata": {},
   "outputs": [],
   "source": [
    "import numpy as np\n",
    "import pandas as pd"
   ]
  },
  {
   "cell_type": "code",
   "execution_count": 2,
   "id": "6802c2b9",
   "metadata": {},
   "outputs": [],
   "source": [
    "df = pd.read_xml(\"archive/annotations/maksssksksss14.xml\")"
   ]
  },
  {
   "cell_type": "code",
   "execution_count": 86,
   "id": "e9bfe1dc",
   "metadata": {},
   "outputs": [
    {
     "name": "stdout",
     "output_type": "stream",
     "text": [
      "1    maksssksksss0.png\n",
      "Name: filename, dtype: object\n"
     ]
    }
   ],
   "source": [
    "print(df[df['filename'].notnull()]['filename'])"
   ]
  },
  {
   "cell_type": "code",
   "execution_count": 76,
   "id": "a196235d",
   "metadata": {},
   "outputs": [],
   "source": [
    "folder_replace = df[df['folder'].notnull()]['folder'].iloc[0]\n",
    "filename_replace = df[df['filename'].notnull()]['filename'].iloc[0]\n",
    "\n",
    "df['folder'].fillna(folder_replace, inplace=True)\n",
    "df['filename'].fillna(filename_replace, inplace=True)"
   ]
  },
  {
   "cell_type": "code",
   "execution_count": 3,
   "id": "360f8f2e",
   "metadata": {},
   "outputs": [
    {
     "name": "stdout",
     "output_type": "stream",
     "text": [
      "   folder            filename  width  height  depth  segmented          name  \\\n",
      "0  images                None    NaN     NaN    NaN        NaN          None   \n",
      "1    None  maksssksksss14.png    NaN     NaN    NaN        NaN          None   \n",
      "2    None                None  301.0   400.0    3.0        NaN          None   \n",
      "3    None                None    NaN     NaN    NaN        0.0          None   \n",
      "4    None                None    NaN     NaN    NaN        NaN  without_mask   \n",
      "\n",
      "          pose  truncated  occluded  difficult  bndbox  \n",
      "0         None        NaN       NaN        NaN     NaN  \n",
      "1         None        NaN       NaN        NaN     NaN  \n",
      "2         None        NaN       NaN        NaN     NaN  \n",
      "3         None        NaN       NaN        NaN     NaN  \n",
      "4  Unspecified        0.0       0.0        0.0     NaN  \n"
     ]
    }
   ],
   "source": [
    "print(df)"
   ]
  },
  {
   "cell_type": "code",
   "execution_count": 87,
   "id": "33c3469a",
   "metadata": {},
   "outputs": [],
   "source": [
    "for col in df.columns:\n",
    "    if(not df[df[col].notnull()][col].empty):\n",
    "        str_replace=df[df[col].notnull()][col].iloc[0]\n",
    "        df[col].fillna(str_replace, inplace=True)"
   ]
  },
  {
   "cell_type": "code",
   "execution_count": 88,
   "id": "3a12957b",
   "metadata": {},
   "outputs": [
    {
     "name": "stdout",
     "output_type": "stream",
     "text": [
      "   folder           filename  width  height  depth  segmented          name  \\\n",
      "0  images  maksssksksss0.png  512.0   366.0    3.0        0.0  without_mask   \n",
      "1  images  maksssksksss0.png  512.0   366.0    3.0        0.0  without_mask   \n",
      "2  images  maksssksksss0.png  512.0   366.0    3.0        0.0  without_mask   \n",
      "3  images  maksssksksss0.png  512.0   366.0    3.0        0.0  without_mask   \n",
      "4  images  maksssksksss0.png  512.0   366.0    3.0        0.0  without_mask   \n",
      "5  images  maksssksksss0.png  512.0   366.0    3.0        0.0     with_mask   \n",
      "6  images  maksssksksss0.png  512.0   366.0    3.0        0.0  without_mask   \n",
      "\n",
      "          pose  truncated  occluded  difficult  bndbox  \n",
      "0  Unspecified        0.0       0.0        0.0     NaN  \n",
      "1  Unspecified        0.0       0.0        0.0     NaN  \n",
      "2  Unspecified        0.0       0.0        0.0     NaN  \n",
      "3  Unspecified        0.0       0.0        0.0     NaN  \n",
      "4  Unspecified        0.0       0.0        0.0     NaN  \n",
      "5  Unspecified        0.0       0.0        0.0     NaN  \n",
      "6  Unspecified        0.0       0.0        0.0     NaN  \n"
     ]
    }
   ],
   "source": [
    "print(df)"
   ]
  },
  {
   "cell_type": "code",
   "execution_count": null,
   "id": "84d7708f",
   "metadata": {},
   "outputs": [],
   "source": []
  }
 ],
 "metadata": {
  "kernelspec": {
   "display_name": "Python 3 (ipykernel)",
   "language": "python",
   "name": "python3"
  },
  "language_info": {
   "codemirror_mode": {
    "name": "ipython",
    "version": 3
   },
   "file_extension": ".py",
   "mimetype": "text/x-python",
   "name": "python",
   "nbconvert_exporter": "python",
   "pygments_lexer": "ipython3",
   "version": "3.8.10"
  }
 },
 "nbformat": 4,
 "nbformat_minor": 5
}
