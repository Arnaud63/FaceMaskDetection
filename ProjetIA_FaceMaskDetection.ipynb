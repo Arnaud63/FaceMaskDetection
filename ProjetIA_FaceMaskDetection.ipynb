{
 "cells": [
  {
   "cell_type": "code",
   "execution_count": 1,
   "id": "959672ab",
   "metadata": {},
   "outputs": [],
   "source": [
    "# MAIN FUNCTION\n",
    "\n",
    "from skimage.feature import hog\n",
    "from skimage.io import imread\n",
    "from skimage.transform import rescale\n",
    "from skimage.transform import resize\n",
    "import matplotlib.pyplot as plt\n",
    "import numpy as np\n",
    "import pandas as pd\n",
    "import os\n",
    "\n",
    "# Taille dans lesquelles vont êtres redimentionnées les photos\n",
    "width=150\n",
    "height=150\n",
    "\n",
    "# Dictionnaire stockant l'ensemble des associations images<->classe\n",
    "# sur lesquel sera entrainé le model\n",
    "data = dict()\n",
    "data['description'] = 'resized ({0}x{1})masked and non masked faces images in rgb'.format(int(width), int(height))\n",
    "data['label'] = [] #Label of the classes\n",
    "#data['filename'] = []\n",
    "data['data'] = [] \n",
    "# les images sont stockées dans le tableau associé à la clé 'data'\n",
    "# les valeurs des classes associées au images sont stockées dans le tableau associé à la clé 'label'\n",
    "# Pour tout indice n inferieur au nb d'image, l'image data['data'][n] est de la classe data['label'][n]"
   ]
  },
  {
   "cell_type": "code",
   "execution_count": 4,
   "id": "917fe088",
   "metadata": {},
   "outputs": [
    {
     "name": "stdout",
     "output_type": "stream",
     "text": [
      "Nombre d'images chargées :  3707\n"
     ]
    }
   ],
   "source": [
    "# Chargement du dataset 'Face Mask Detection' fournis par Kaggle\n",
    "\n",
    "src=\"./archive/annotations\"\n",
    "\n",
    "for xmlFile in os.listdir(src):\n",
    "    # On construit le chemin vers le fichier de nom 'xmlFile'\n",
    "    current_path=src+\"/\"+xmlFile\n",
    "\n",
    "    # On charge le fichier xml courrant dans un dataframe\n",
    "    df = pd.read_xml(current_path)\n",
    "    #num_without_mask = df[df['name'].notnull()]['name'].tolist().count(\"without_mask\");\n",
    "    \n",
    "    # On retire les lignes du df à None sur leur colonne name,\n",
    "    # puis on sauvegarde la colonne name du df dans une series\n",
    "    series_mask = df[df['name'].notnull()]['name']\n",
    "\n",
    "    # On conserve uniquement les elements de la series differents de \"without_mask\"\n",
    "    series_mask = series_mask[series_mask!=\"without_mask\"]\n",
    "\n",
    "    nb_mask = series_mask.shape[0] # On obtient le nombre de masques portés dans l'image\n",
    "    if( nb_mask>1 ):\n",
    "        nb_mask=1\n",
    "    data['label'].append(nb_mask)\n",
    "\n",
    "src=\"./archive/images\"\n",
    "\n",
    "for picture in os.listdir(src):\n",
    "    # On construit le chemin vers le fichier de nom 'picture'\n",
    "    current_path=src+\"/\"+picture\n",
    "\n",
    "    # On verifie si le fichier actuellement lu est bien une image\n",
    "    if(picture[-3:] in ['png', 'jpg']):\n",
    "        # On charge l'image courante en niveaux de gris dans 'img' un tableau numpy\n",
    "        img = imread(current_path, as_gray=True);\n",
    "\n",
    "        # scale down the image to one third\n",
    "        #img = rescale(img, 1/3, mode='reflect')\n",
    "        #On redimentionne l'image afin d'obtenir un format constant entre toutes les images\n",
    "        img = resize(img, (width, height)) #[:,:,::-1]\n",
    "        data['data'].append(img) # On ajoute l'image à la liste des images chargées dans le dictionnaire\n",
    "        \n",
    "# Fin de chargement du dataset 'ARCHIVE' fournis par Kaggle\n",
    "\n",
    "print(\"Nombre d'images chargées : \", len(data['label']))"
   ]
  },
  {
   "cell_type": "code",
   "execution_count": 3,
   "id": "a7993bf2",
   "metadata": {},
   "outputs": [
    {
     "name": "stdout",
     "output_type": "stream",
     "text": [
      "Nombre d'images chargées :  2854\n"
     ]
    }
   ],
   "source": [
    "# Chargement du dataset 'lfw' fournis pas Kaggle\n",
    "# ce dataset se divise en sous-repertoires\n",
    "\n",
    "# On souhaite limiter le nombre d'images à charger -> on ne parcourt que 'limit-max_rep' sous-repertoires\n",
    "limit_max_rep=2000;\n",
    "# On utilise un compteur 'cpt'\n",
    "cpt=0;\n",
    "\n",
    "\n",
    "src=\"./lfw/lfw\"\n",
    "# Ce repertoire ne contient que des visages non masqués\n",
    "for subdir in os.listdir(src):\n",
    "    # On verifie si le nombre maximum souhaité de\n",
    "    # repertoire à déjà été parcourru\n",
    "    if(cpt>=limit_max_rep):\n",
    "        break;\n",
    "    if(os.path.isdir(src+\"/\"+subdir)):\n",
    "        # On s'assure que subdir designe bien le nom d'un sous-repertoire \n",
    "        for picture in os.listdir(src+\"/\"+subdir):\n",
    "            # On parcourt le sous repertoire actuel\n",
    "            # picture contient le nom du fichier courant\n",
    "            current_path=src+\"/\"+subdir+\"/\"+picture;\n",
    "            \n",
    "            # On verifie si le fichier actuellement lu est bien une image\n",
    "            if(picture[-3:] in ['png', 'jpg']):\n",
    "                img = imread(current_path, as_gray=True);\n",
    "                # scale down the image to one third\n",
    "                #img = rescale(img, 1/3, mode='reflect')\n",
    "                img = resize(img, (width, height)) #[:,:,::-1]\n",
    "                data['data'].append(img)\n",
    "                data['label'].append(0)\n",
    "                cpt = cpt+1;\n",
    "\n",
    "            \n",
    "# fin du chargement du dataset'lfw'\n",
    "\n",
    "print(\"Nombre d'images chargées : \", len(data['label']))"
   ]
  },
  {
   "cell_type": "code",
   "execution_count": 8,
   "id": "89fdd45b",
   "metadata": {},
   "outputs": [
    {
     "ename": "MemoryError",
     "evalue": "Unable to allocate 490. MiB for an array with shape (2854, 150, 150) and data type float64",
     "output_type": "error",
     "traceback": [
      "\u001b[1;31m---------------------------------------------------------------------------\u001b[0m",
      "\u001b[1;31mMemoryError\u001b[0m                               Traceback (most recent call last)",
      "\u001b[1;32m~\\AppData\\Local\\Temp/ipykernel_17968/327928372.py\u001b[0m in \u001b[0;36m<module>\u001b[1;34m\u001b[0m\n\u001b[0;32m      4\u001b[0m \u001b[1;33m\u001b[0m\u001b[0m\n\u001b[0;32m      5\u001b[0m \u001b[1;31m# Convertion des listes data['data'] et data['label'] en array numpy\u001b[0m\u001b[1;33m\u001b[0m\u001b[1;33m\u001b[0m\u001b[1;33m\u001b[0m\u001b[0m\n\u001b[1;32m----> 6\u001b[1;33m \u001b[0mX\u001b[0m \u001b[1;33m=\u001b[0m \u001b[0mnp\u001b[0m\u001b[1;33m.\u001b[0m\u001b[0marray\u001b[0m\u001b[1;33m(\u001b[0m\u001b[0mdata\u001b[0m\u001b[1;33m[\u001b[0m\u001b[1;34m'data'\u001b[0m\u001b[1;33m]\u001b[0m\u001b[1;33m)\u001b[0m\u001b[1;33m\u001b[0m\u001b[1;33m\u001b[0m\u001b[0m\n\u001b[0m\u001b[0;32m      7\u001b[0m \u001b[1;31m##print(\"X shape :\",X.shape)\u001b[0m\u001b[1;33m\u001b[0m\u001b[1;33m\u001b[0m\u001b[1;33m\u001b[0m\u001b[0m\n\u001b[0;32m      8\u001b[0m \u001b[1;31m##print(\"X[0] shape :\", X[0].shape)\u001b[0m\u001b[1;33m\u001b[0m\u001b[1;33m\u001b[0m\u001b[1;33m\u001b[0m\u001b[0m\n",
      "\u001b[1;31mMemoryError\u001b[0m: Unable to allocate 490. MiB for an array with shape (2854, 150, 150) and data type float64"
     ]
    }
   ],
   "source": [
    "# Separation du jeu d'images en jeu d'entrainement et jeu de test\n",
    "\n",
    "from sklearn.model_selection import train_test_split\n",
    "\n",
    "# Convertion des listes data['data'] et data['label'] en array numpy\n",
    "X = np.array(data['data'])\n",
    "##print(\"X shape :\",X.shape)\n",
    "##print(\"X[0] shape :\", X[0].shape)\n",
    "y = np.array(data['label'])\n",
    "##print(\"Y shape :\",y.shape)\n",
    "##print(\"Y[0] shape :\", y[0].shape)\n",
    "\n",
    "# Appel de la méthode 'train_test_split' de sklearn pour la separation du dataset en 2\n",
    "X_train, X_test, y_train, y_test = train_test_split(\n",
    "    X, \n",
    "    y, \n",
    "    test_size=0.2,      #On place 20% des couples donnée-classe dans le jeu de test, donc 80% dans le jeu d'entrainement\n",
    "    shuffle=True,       #shuffle permet de melanger les couples donnée-classe de X et y avant d'effectuer la subdivision\n",
    "    random_state=42,    #On donne la seed pour le shuffle\n",
    ")\n",
    "\n",
    "print(\"Taille du jeu d'entrainement :\", X_train.shape)\n",
    "print(\"Taille du jeu de tests :\", X_test.shape)"
   ]
  },
  {
   "cell_type": "code",
   "execution_count": null,
   "id": "ee06b574",
   "metadata": {},
   "outputs": [],
   "source": [
    "# Definition des Transformers\n",
    "\n",
    "from sklearn.base import BaseEstimator, TransformerMixin\n",
    "\n",
    "# Transformer convertissant une image en niveaux de gris \n",
    "class RGB2GrayTransformer(BaseEstimator, TransformerMixin):\n",
    "    \"\"\"\n",
    "    Convert an array of RGB images to grayscale\n",
    "    \"\"\"\n",
    " \n",
    "    def __init__(self):\n",
    "        pass\n",
    " \n",
    "    def fit(self, X, y=None):\n",
    "        \"\"\"returns itself\"\"\"\n",
    "        return self\n",
    " \n",
    "    def transform(self, X, y=None):\n",
    "        \"\"\"perform the transformation and return an array\"\"\"\n",
    "        return np.array([skimage.color.rgb2gray(img) for img in X])\n",
    "     \n",
    " \n",
    " # Transformer calculant le HOG d'une image \n",
    "class HogTransformer(BaseEstimator, TransformerMixin):\n",
    "    \"\"\"\n",
    "    Expects an array of 2d arrays (1 channel images)\n",
    "    Calculates hog features for each img\n",
    "    \"\"\"\n",
    " \n",
    "    def __init__(self, y=None, orientations=9,\n",
    "                 pixels_per_cell=(8, 8),\n",
    "                 cells_per_block=(3, 3), block_norm='L2-Hys'):\n",
    "        self.y = y\n",
    "        self.orientations = orientations\n",
    "        self.pixels_per_cell = pixels_per_cell\n",
    "        self.cells_per_block = cells_per_block\n",
    "        self.block_norm = block_norm\n",
    " \n",
    "    def fit(self, X, y=None):\n",
    "        return self\n",
    " \n",
    "    def transform(self, X, y=None):\n",
    " \n",
    "        def local_hog(X):\n",
    "            return hog(X,\n",
    "                       orientations=self.orientations,\n",
    "                       pixels_per_cell=self.pixels_per_cell,\n",
    "                       cells_per_block=self.cells_per_block,\n",
    "                       block_norm=self.block_norm)\n",
    " \n",
    "        try: # parallel\n",
    "            return np.array([local_hog(img) for img in X])\n",
    "        except:\n",
    "            return np.array([local_hog(img) for img in X])"
   ]
  },
  {
   "cell_type": "code",
   "execution_count": 6,
   "id": "f62e0800",
   "metadata": {},
   "outputs": [
    {
     "ename": "NameError",
     "evalue": "name 'HogTransformer' is not defined",
     "output_type": "error",
     "traceback": [
      "\u001b[1;31m---------------------------------------------------------------------------\u001b[0m",
      "\u001b[1;31mNameError\u001b[0m                                 Traceback (most recent call last)",
      "\u001b[1;32m~\\AppData\\Local\\Temp/ipykernel_17968/966499657.py\u001b[0m in \u001b[0;36m<module>\u001b[1;34m\u001b[0m\n\u001b[0;32m      8\u001b[0m \u001b[1;31m# Creation d'une instance de chaque transformers\u001b[0m\u001b[1;33m\u001b[0m\u001b[1;33m\u001b[0m\u001b[1;33m\u001b[0m\u001b[0m\n\u001b[0;32m      9\u001b[0m \u001b[1;31m# grayify = RGB2GrayTransformer()\u001b[0m\u001b[1;33m\u001b[0m\u001b[1;33m\u001b[0m\u001b[1;33m\u001b[0m\u001b[0m\n\u001b[1;32m---> 10\u001b[1;33m hogify = HogTransformer(\n\u001b[0m\u001b[0;32m     11\u001b[0m     \u001b[0mpixels_per_cell\u001b[0m\u001b[1;33m=\u001b[0m\u001b[1;33m(\u001b[0m\u001b[1;36m14\u001b[0m\u001b[1;33m,\u001b[0m \u001b[1;36m14\u001b[0m\u001b[1;33m)\u001b[0m\u001b[1;33m,\u001b[0m   \u001b[1;31m# blocs de 14x14 pixels pour le calcul des gradients\u001b[0m\u001b[1;33m\u001b[0m\u001b[1;33m\u001b[0m\u001b[0m\n\u001b[0;32m     12\u001b[0m     \u001b[0mcells_per_block\u001b[0m\u001b[1;33m=\u001b[0m\u001b[1;33m(\u001b[0m\u001b[1;36m2\u001b[0m\u001b[1;33m,\u001b[0m\u001b[1;36m2\u001b[0m\u001b[1;33m)\u001b[0m\u001b[1;33m,\u001b[0m\u001b[1;33m\u001b[0m\u001b[1;33m\u001b[0m\u001b[0m\n",
      "\u001b[1;31mNameError\u001b[0m: name 'HogTransformer' is not defined"
     ]
    }
   ],
   "source": [
    "# Instanciation et utilisation des transformers\n",
    "\n",
    "from sklearn.linear_model import SGDClassifier\n",
    "from sklearn.model_selection import cross_val_predict\n",
    "from sklearn.preprocessing import StandardScaler, Normalizer\n",
    "import skimage\n",
    " \n",
    "# Creation d'une instance de chaque transformers\n",
    "# grayify = RGB2GrayTransformer()\n",
    "hogify = HogTransformer(\n",
    "    pixels_per_cell=(14, 14),   # blocs de 14x14 pixels pour le calcul des gradients\n",
    "    cells_per_block=(2,2), \n",
    "    orientations=9,             # calcul des gradients selon 9 orientations\n",
    "    block_norm='L2-Hys'\n",
    ")\n",
    "scalify = StandardScaler()\n",
    " \n",
    "# Traitement de X_train : appel de fit_transform de chaque transformers sur X_train\n",
    "#X_train_gray = grayify.fit_transform(X_train)\n",
    "X_train_hog = hogify.fit_transform(X_train)\n",
    "X_train_prepared = scalify.fit_transform(X_train_hog)\n",
    " \n",
    "print(\"Jeu de données d'entrainement traité\");"
   ]
  },
  {
   "cell_type": "code",
   "execution_count": null,
   "id": "ff286c0e",
   "metadata": {},
   "outputs": [
    {
     "data": {
      "text/plain": [
       "SGDClassifier(random_state=42)"
      ]
     },
     "execution_count": 13,
     "metadata": {},
     "output_type": "execute_result"
    }
   ],
   "source": [
    "# Entrainement du modèle\n",
    "\n",
    "from sklearn.linear_model import SGDClassifier\n",
    "\n",
    "sgd_clf = SGDClassifier(random_state=42, max_iter=1000, tol=1e-3)\n",
    "sgd_clf.fit(X_train_prepared, y_train)"
   ]
  },
  {
   "cell_type": "code",
   "execution_count": null,
   "id": "409bf102",
   "metadata": {},
   "outputs": [
    {
     "ename": "NameError",
     "evalue": "name 'hogify' is not defined",
     "output_type": "error",
     "traceback": [
      "\u001b[1;31m---------------------------------------------------------------------------\u001b[0m",
      "\u001b[1;31mNameError\u001b[0m                                 Traceback (most recent call last)",
      "\u001b[1;32m~\\AppData\\Local\\Temp/ipykernel_17968/859828277.py\u001b[0m in \u001b[0;36m<module>\u001b[1;34m\u001b[0m\n\u001b[0;32m      2\u001b[0m \u001b[1;33m\u001b[0m\u001b[0m\n\u001b[0;32m      3\u001b[0m \u001b[1;31m#X_test_gray = grayify.transform(X_test) Pictures in X_test already gray\u001b[0m\u001b[1;33m\u001b[0m\u001b[1;33m\u001b[0m\u001b[1;33m\u001b[0m\u001b[0m\n\u001b[1;32m----> 4\u001b[1;33m \u001b[0mX_test_hog\u001b[0m \u001b[1;33m=\u001b[0m \u001b[0mhogify\u001b[0m\u001b[1;33m.\u001b[0m\u001b[0mtransform\u001b[0m\u001b[1;33m(\u001b[0m\u001b[0mX_test\u001b[0m\u001b[1;33m)\u001b[0m\u001b[1;33m\u001b[0m\u001b[1;33m\u001b[0m\u001b[0m\n\u001b[0m\u001b[0;32m      5\u001b[0m \u001b[0mX_test_prepared\u001b[0m \u001b[1;33m=\u001b[0m \u001b[0mscalify\u001b[0m\u001b[1;33m.\u001b[0m\u001b[0mtransform\u001b[0m\u001b[1;33m(\u001b[0m\u001b[0mX_test_hog\u001b[0m\u001b[1;33m)\u001b[0m\u001b[1;33m\u001b[0m\u001b[1;33m\u001b[0m\u001b[0m\n\u001b[0;32m      6\u001b[0m \u001b[1;33m\u001b[0m\u001b[0m\n",
      "\u001b[1;31mNameError\u001b[0m: name 'hogify' is not defined"
     ]
    }
   ],
   "source": [
    "# Réalisation des tests\n",
    "\n",
    "#X_test_gray = grayify.transform(X_test) Pictures in X_test already gray\n",
    "X_test_hog = hogify.transform(X_test)\n",
    "X_test_prepared = scalify.transform(X_test_hog)\n",
    "\n",
    "# On construit le tableau des resultats prédits par le modèle\n",
    "y_pred = sgd_clf.predict(X_test_prepared)\n",
    "\n",
    "# On affiche les indices des images n'ayant pas été correctement\n",
    "# prédites par le modele\n",
    "print(np.where(np.array(y_pred == y_test)==False))\n",
    "print('')\n",
    "\n",
    "#On affiche le pourcentage de precision du modèle\n",
    "print('Pourcentage precision: ', 100*np.sum(y_pred == y_test)/len(y_test))"
   ]
  },
  {
   "cell_type": "code",
   "execution_count": null,
   "id": "39b981e3",
   "metadata": {},
   "outputs": [
    {
     "name": "stdout",
     "output_type": "stream",
     "text": [
      "masque detecté\n"
     ]
    },
    {
     "data": {
      "image/png": "[encoded data removed]",
      "text/plain": [
       "<Figure size 432x288 with 1 Axes>"
      ]
     },
     "metadata": {
      "needs_background": "light"
     },
     "output_type": "display_data"
    }
   ],
   "source": [
    "# Test avec des images externes\n",
    "\n",
    "#Chemin vers l'image personnalisée\n",
    "path_testing_img=\"./testing_pictures/Arnaud_mask_1.jpg\"; \n",
    "\n",
    "testing_img = imread(path_testing_img, as_gray=True);\n",
    "testing_img = resize(testing_img, (width, height)) #[:,:,::-1]\n",
    "plt.imshow(testing_img, cmap=\"gray\")\n",
    "\n",
    "liste=[]\n",
    "liste.append(testing_img)\n",
    "X_img = np.array(liste);\n",
    "\n",
    "X_img_hog = hogify.transform(X_img)\n",
    "X_img_prepared = scalify.transform(X_img_hog)\n",
    "\n",
    "y_pred = sgd_clf.predict(X_img_prepared)\n",
    "\n",
    "if(y_pred[0]==1) :\n",
    "    print(\"masque detecté\")\n",
    "else :\n",
    "    print(\"masque nondetecté\")"
   ]
  },
  {
   "cell_type": "code",
   "execution_count": null,
   "id": "acd8f987",
   "metadata": {},
   "outputs": [],
   "source": []
  }
 ],
 "metadata": {
  "kernelspec": {
   "display_name": "Python 3 (ipykernel)",
   "language": "python",
   "name": "python3"
  },
  "language_info": {
   "codemirror_mode": {
    "name": "ipython",
    "version": 3
   },
   "file_extension": ".py",
   "mimetype": "text/x-python",
   "name": "python",
   "nbconvert_exporter": "python",
   "pygments_lexer": "ipython3",
   "version": "3.8.10"
  }
 },
 "nbformat": 4,
 "nbformat_minor": 5
}
